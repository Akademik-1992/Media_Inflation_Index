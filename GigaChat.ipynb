{
 "cells": [
  {
   "cell_type": "code",
   "execution_count": null,
   "id": "618975ee",
   "metadata": {},
   "outputs": [],
   "source": [
    "import openpyxl\n",
    "import pandas as pd\n",
    "\n",
    "from langchain.chat_models import GigaChat\n",
    "from langchain.prompts.chat import (\n",
    "    ChatPromptTemplate,\n",
    "    SystemMessagePromptTemplate,\n",
    "    AIMessagePromptTemplate,\n",
    "    HumanMessagePromptTemplate,\n",
    ")\n",
    "from langchain.schema import AIMessage, HumanMessage, SystemMessage\n",
    "import re"
   ]
  },
  {
   "cell_type": "code",
   "execution_count": null,
   "id": "636c98a1",
   "metadata": {},
   "outputs": [],
   "source": [
    "chat = GigaChat(credentials='___')"
   ]
  },
  {
   "cell_type": "code",
   "execution_count": null,
   "id": "aac1566d",
   "metadata": {},
   "outputs": [],
   "source": [
    "df = pd.read_excel('C:/Users/Академик/PycharmProjects/News_parsing/Рубрики/2015-2018.xlsx')\n",
    "df"
   ]
  },
  {
   "cell_type": "code",
   "execution_count": null,
   "id": "a849fbaa",
   "metadata": {},
   "outputs": [],
   "source": [
    "df_text_1 = df['text']"
   ]
  },
  {
   "cell_type": "code",
   "execution_count": null,
   "id": "40deb931",
   "metadata": {},
   "outputs": [],
   "source": [
    "text_lst = []\n",
    "for text in df_text_1:\n",
    "    text_lst.append(text)"
   ]
  },
  {
   "cell_type": "code",
   "execution_count": null,
   "id": "17447b08",
   "metadata": {},
   "outputs": [],
   "source": [
    "%%time\n",
    "label_lst = []\n",
    "count = 0\n",
    "# thematic_lst = []\n",
    "for text in text_lst:\n",
    "    messages_label = [SystemMessage(content=\"Ты полезный ассистент, который умеет определять тональность текста применительно к ценам.\"),\n",
    "        HumanMessage(content=f\"Классифицируй текст на проинфляционный или дезинфляционный. Дай ответ одним словом.{text}\"),\n",
    "    ]\n",
    "    label = chat(messages_label)\n",
    "    label_lst.append(label)\n",
    "    count += 1\n",
    "    print(count, label)\n",
    "    \n",
    "#     messages_thematic = [SystemMessage(content=\"Ты полезный ассистент, который умеет определять тематику текста.\"),\n",
    "#         HumanMessage(content=f\"Определи тематику текста одним словом.{text}\"),\n",
    "#     ]\n",
    "#     thematic = chat(messages_thematic)\n",
    "#     thematic_lst.append(thematic)"
   ]
  },
  {
   "cell_type": "code",
   "execution_count": null,
   "id": "0e31eebf",
   "metadata": {},
   "outputs": [],
   "source": [
    "df['label'] = label_lst\n",
    "# df['thematic'] = thematic_lst"
   ]
  },
  {
   "cell_type": "code",
   "execution_count": null,
   "id": "0828379a",
   "metadata": {},
   "outputs": [],
   "source": [
    "df.head(5)"
   ]
  },
  {
   "cell_type": "code",
   "execution_count": null,
   "id": "154035ef",
   "metadata": {},
   "outputs": [],
   "source": [
    "df.to_excel('Разметка по ИПЦ.xlsx')"
   ]
  },
  {
   "cell_type": "code",
   "execution_count": null,
   "id": "186c28ac",
   "metadata": {},
   "outputs": [],
   "source": [
    "label_lst"
   ]
  },
  {
   "cell_type": "code",
   "execution_count": null,
   "id": "a35c187a",
   "metadata": {
    "scrolled": false
   },
   "outputs": [],
   "source": [
    "label = pd.DataFrame(label_lst)"
   ]
  },
  {
   "cell_type": "code",
   "execution_count": null,
   "id": "4a857f1d",
   "metadata": {},
   "outputs": [],
   "source": [
    "label.to_excel('Только метки.xlsx')"
   ]
  },
  {
   "cell_type": "code",
   "execution_count": null,
   "id": "aaa39203",
   "metadata": {},
   "outputs": [],
   "source": []
  }
 ],
 "metadata": {
  "kernelspec": {
   "display_name": "Python 3 (ipykernel)",
   "language": "python",
   "name": "python3"
  },
  "language_info": {
   "codemirror_mode": {
    "name": "ipython",
    "version": 3
   },
   "file_extension": ".py",
   "mimetype": "text/x-python",
   "name": "python",
   "nbconvert_exporter": "python",
   "pygments_lexer": "ipython3",
   "version": "3.11.9"
  }
 },
 "nbformat": 4,
 "nbformat_minor": 5
}
